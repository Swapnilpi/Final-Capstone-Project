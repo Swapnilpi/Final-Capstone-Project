{
 "cells": [
  {
   "cell_type": "markdown",
   "metadata": {},
   "source": [
    "# Data Section"
   ]
  },
  {
   "cell_type": "markdown",
   "metadata": {},
   "source": [
    "<br> The Data for this project will be used from two different sources. One data source is from Kaggle where th list of all restaurants in Budapest and Dublin are present. Another Data Source will be the FourSquare Location Data. This Data will give us the Lattitude and longitude of the particular restaurant which will be helpful for our further research. To determine which city is best for opening the new restaurant, both these datasets will play the major role in this project.</br> \n",
    "\n",
    "<br> The Foursquare data will give the detail location of the restaurants from the selected city. This data will also be useful to plot the location data using folium library. Thus, this data will be merged further with the other dataset and together this merged dataset will be used to find the particular city. In the Kaggle Dataset which we are using, the dataset containts the data of Five-hundred different restaurants from Budapest and Dublin. The data contains the features like Restaurant Name, Cuisine Style, Ranking. To get the Ratings and Reviews of the restaurants we will be using the FourSquare DAta and merge this dataset in Jupyter Notebooks.</br>\n",
    "The implementation of Machine Learing technique will be discussed in the next section"
   ]
  },
  {
   "cell_type": "code",
   "execution_count": null,
   "metadata": {},
   "outputs": [],
   "source": []
  }
 ],
 "metadata": {
  "kernelspec": {
   "display_name": "Python 3",
   "language": "python",
   "name": "python3"
  },
  "language_info": {
   "codemirror_mode": {
    "name": "ipython",
    "version": 3
   },
   "file_extension": ".py",
   "mimetype": "text/x-python",
   "name": "python",
   "nbconvert_exporter": "python",
   "pygments_lexer": "ipython3",
   "version": "3.6.7"
  }
 },
 "nbformat": 4,
 "nbformat_minor": 4
}
