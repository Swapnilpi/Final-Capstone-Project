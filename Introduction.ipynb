{
 "cells": [
  {
   "cell_type": "markdown",
   "metadata": {},
   "source": [
    "# Introduction "
   ]
  },
  {
   "cell_type": "markdown",
   "metadata": {},
   "source": [
    "<br> A Restauant has always been a profiatable business investment considering its location, quality and types. From the start of 21st century, there has been lot of migrants from one country to another. Many Families from asian countries has been moving out of thier own countries due to lack of employment oppurtunities, lack of Industries and lack of job creation from their respective governments. </br>\n",
    "<br> There were numerous reasons where government had not done enough for their people espicially South Asian Country like India. In terms of Education as well, there were not many colleges which can be competed with the World class education and te colleges which were better in terms of education, there addmission cannot be taken easily. So, many students started moving out of India to more developed countries like European Countries, Canada, Australia and America. So basically in last few decades Professionals in search of better job and better pay moved out of India. STudents moved for better quality of Education and many businessmen moved out of India for the sake of business friendly envirnment provided by the developed countries governments. </br>\n",
    "<br> Thus the consistent emmigration movement from the countries like India, China led to opening of Indian and Chinese restaurants in many developed countries where one can easily get the food like their home country. These restaurants gained massive popularity in these developed countries because of their new taste and different kinds of food. For eg. From the Ancient times people in Europe did not like to eat spicy food. But after the introduction of Indian Restaurants in few cities of Europe, they got the new taste and they started liking the Indian food at times and Spiecier food. So these restaurants started gaining the backing from the local crowd as well. Fast Forward to 2019, many business minds, business enthusiasts people started looking to grab this oppurtunity by starting the new restaurant in European Cities. But they were not sure where to open these restaurants.</br>\n",
    "<br> One such Client had this big question infront of him. The Client wanted to open a restaurant in either Budapest or Dublin. But he also wanted to choose from Dublin or Budapest where there are less Indian Restaurants but more Indian Population.The other condition for  him was to open in such a area where there are less Indian restaurants in a city. So to satisfy all his conditions, it is not possible to physically check all the conditions, now here comes the use of Machine Learning. Here in this case, the Machine Learning techniques will provide immense help in finding the best suitable location for opening the new Restaurant in either Dublin, Ireland or Budapest, Hungary. The Research question, ***Can the Machine Learning technique be used to determine which city is best for opening the new Indian Restaurant?*** Both the countries has their pros and cons in terms of Indian Population. So we will determine all these in the next section, where the Data which will be used for this problem will be describe and Four Square Location data will also be discussed. </br>"
   ]
  },
  {
   "cell_type": "code",
   "execution_count": null,
   "metadata": {},
   "outputs": [],
   "source": []
  }
 ],
 "metadata": {
  "kernelspec": {
   "display_name": "Python 3",
   "language": "python",
   "name": "python3"
  },
  "language_info": {
   "codemirror_mode": {
    "name": "ipython",
    "version": 3
   },
   "file_extension": ".py",
   "mimetype": "text/x-python",
   "name": "python",
   "nbconvert_exporter": "python",
   "pygments_lexer": "ipython3",
   "version": "3.6.7"
  }
 },
 "nbformat": 4,
 "nbformat_minor": 4
}
